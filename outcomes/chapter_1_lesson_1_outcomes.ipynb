{
  "cells": [
    {
      "cell_type": "markdown",
      "metadata": {},
      "source": [
        "```{html}\n",
        "<details>\n",
        "  <summary>Introduce the course structure and syllabus</summary>\n",
        "  <ul>\n",
        "    <li><img src=\"../images/Book-Open-32.png\" alt=\"book\">Get to know each other</li>\n",
        "    <li>img src= \"../images/Note-Memo-32.png\" alt=\"book\">Describe key concepts in time series analysis</li>\n",
        "    <li>img src=\"../images/Book-Open-32.png\" alt=\"book\">Explore an example time series interactively</li>\n",
        "  </ul>\n",
        "</details>\n",
        "```"
      ],
      "id": "5bc8d668"
    }
  ],
  "metadata": {
    "kernelspec": {
      "name": "python3",
      "language": "python",
      "display_name": "Python 3 (ipykernel)"
    }
  },
  "nbformat": 4,
  "nbformat_minor": 5
}